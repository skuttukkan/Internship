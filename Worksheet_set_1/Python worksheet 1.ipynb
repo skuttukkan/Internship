{
 "cells": [
  {
   "cell_type": "markdown",
   "id": "5d4b851e",
   "metadata": {},
   "source": [
    "### 11. Write a python program to find the factorial of a number."
   ]
  },
  {
   "cell_type": "code",
   "execution_count": 6,
   "id": "bd864c8b",
   "metadata": {},
   "outputs": [
    {
     "name": "stdout",
     "output_type": "stream",
     "text": [
      "Enter a number: 3\n",
      "Factorial of 3 is 6\n"
     ]
    }
   ],
   "source": [
    "num = int(input(\"Enter a number: \"))\n",
    "\n",
    "factorial = 1\n",
    "\n",
    "if num < 0:\n",
    "    print(\"Factorial does not exist for negative numbers\")\n",
    "elif num == 0:\n",
    "    print(\"Factorial of 0 is 1\")\n",
    "else:\n",
    "    for i in range(1, num + 1):\n",
    "        factorial = factorial * i\n",
    "    print(\"Factorial of\", num, \"is\", factorial)\n"
   ]
  },
  {
   "cell_type": "markdown",
   "id": "2049bfcb",
   "metadata": {},
   "source": [
    "### 12. Write a python program to find whether a number is prime or composite."
   ]
  },
  {
   "cell_type": "code",
   "execution_count": 7,
   "id": "201d6608",
   "metadata": {},
   "outputs": [
    {
     "name": "stdout",
     "output_type": "stream",
     "text": [
      "Enter a number: 23\n",
      "23 is a prime number\n"
     ]
    }
   ],
   "source": [
    "num = int(input(\"Enter a number: \"))\n",
    "if num > 1:\n",
    "    for i in range(2, num):\n",
    "        if (num % i) == 0:\n",
    "            print(num, \"is a composite number\")\n",
    "            break\n",
    "    else:\n",
    "        print(num, \"is a prime number\")\n",
    "else:\n",
    "    print(num, \"is neither prime nor composite\")\n"
   ]
  },
  {
   "cell_type": "markdown",
   "id": "570b13a1",
   "metadata": {},
   "source": [
    "### 13. Write a python program to check whether a given string is palindrome or not."
   ]
  },
  {
   "cell_type": "code",
   "execution_count": 10,
   "id": "cc067e0a",
   "metadata": {},
   "outputs": [
    {
     "name": "stdout",
     "output_type": "stream",
     "text": [
      "Enter a string: welcome\n",
      "The string is not a palindrome\n"
     ]
    }
   ],
   "source": [
    "string = input(\"Enter a string: \")\n",
    "\n",
    "# reverse the string\n",
    "rev_string = string[::-1]\n",
    "\n",
    "# check if the string and its reverse are equal\n",
    "if string == rev_string:\n",
    "    print(\"The string is a palindrome\")\n",
    "else:\n",
    "    print(\"The string is not a palindrome\")\n",
    "\n"
   ]
  },
  {
   "cell_type": "markdown",
   "id": "56b2dcee",
   "metadata": {},
   "source": [
    "### 14. Write a Python program to get the third side of right-angled triangle from two given sides."
   ]
  },
  {
   "cell_type": "code",
   "execution_count": 11,
   "id": "5d5d75ed",
   "metadata": {},
   "outputs": [
    {
     "name": "stdout",
     "output_type": "stream",
     "text": [
      "Enter length of side a: 23\n",
      "Enter length of side b: 32\n",
      "Length of side c:  39.408120990476064\n"
     ]
    }
   ],
   "source": [
    "import math\n",
    "\n",
    "# Get input from user\n",
    "a = float(input(\"Enter length of side a: \"))\n",
    "b = float(input(\"Enter length of side b: \"))\n",
    "\n",
    "# Calculate length of side c\n",
    "c = math.sqrt(a**2 + b**2)\n",
    "\n",
    "# Print the result\n",
    "print(\"Length of side c: \", c)\n",
    "\n"
   ]
  },
  {
   "cell_type": "markdown",
   "id": "fb4300ba",
   "metadata": {},
   "source": [
    "### 15. Write a Python program to print the frequency of each of the characters present in a given string."
   ]
  },
  {
   "cell_type": "code",
   "execution_count": 17,
   "id": "f1e5ebaf",
   "metadata": {},
   "outputs": [
    {
     "name": "stdout",
     "output_type": "stream",
     "text": [
      "Enter a string: Selflessness\n",
      "Frequency of each character in the string:\n",
      "\n",
      "S : 1\n",
      "e : 3\n",
      "l : 2\n",
      "f : 1\n",
      "s : 4\n",
      "n : 1\n"
     ]
    }
   ],
   "source": [
    "string = input(\"Enter a string: \")\n",
    "freq = {}\n",
    "\n",
    "for char in string:\n",
    "    if char in freq:\n",
    "        freq[char] += 1\n",
    "    else:\n",
    "        freq[char] = 1\n",
    "\n",
    "print(\"Frequency of each character in the string:\\n\")\n",
    "for char, count in freq.items():\n",
    "    print(char, \":\", count)\n"
   ]
  },
  {
   "cell_type": "code",
   "execution_count": null,
   "id": "05c1f484",
   "metadata": {},
   "outputs": [],
   "source": []
  }
 ],
 "metadata": {
  "kernelspec": {
   "display_name": "Python 3 (ipykernel)",
   "language": "python",
   "name": "python3"
  },
  "language_info": {
   "codemirror_mode": {
    "name": "ipython",
    "version": 3
   },
   "file_extension": ".py",
   "mimetype": "text/x-python",
   "name": "python",
   "nbconvert_exporter": "python",
   "pygments_lexer": "ipython3",
   "version": "3.9.13"
  }
 },
 "nbformat": 4,
 "nbformat_minor": 5
}
