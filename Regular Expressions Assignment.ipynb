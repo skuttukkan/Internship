{
 "cells": [
  {
   "cell_type": "markdown",
   "id": "bbd9eb25",
   "metadata": {},
   "source": [
    "### Question 1- Write a Python program to check that a string contains only a certain set of characters (in this case a-z, A-Z and 0-9)."
   ]
  },
  {
   "cell_type": "code",
   "execution_count": 10,
   "id": "19c7895a",
   "metadata": {},
   "outputs": [
    {
     "name": "stdout",
     "output_type": "stream",
     "text": [
      "Enter the string1 : ASFHASHFfjdhghfdjhgj34354545\n",
      "The string contains only a-z, A-Z, and 0-9.\n",
      "Enter the string2 : sjafhjdsfhJDFSJFHSJHFJ23434(**&^%\n",
      "The string contains characters other than a-z, A-Z, and 0-9.\n"
     ]
    }
   ],
   "source": [
    "import re\n",
    "\n",
    "def check_string_characters(string):\n",
    "    pattern = r'^[a-zA-Z0-9]+$'\n",
    "    if re.match(pattern, string):\n",
    "        print(\"The string contains only a-z, A-Z, and 0-9.\")\n",
    "    else:\n",
    "        print(\"The string contains characters other than a-z, A-Z, and 0-9.\")\n",
    "\n",
    "# Example usage\n",
    "\n",
    "s1 = input(\"Enter the string1 : \")\n",
    "check_string_characters(s1)\n",
    "s2 = input(\"Enter the string2 : \")\n",
    "check_string_characters(s2)\n"
   ]
  },
  {
   "cell_type": "markdown",
   "id": "8249584b",
   "metadata": {},
   "source": [
    "### Question 2- Create a function in python that matches a string that has an a followed by zero or more b's"
   ]
  },
  {
   "cell_type": "code",
   "execution_count": 18,
   "id": "7a4ec239",
   "metadata": {},
   "outputs": [
    {
     "name": "stdout",
     "output_type": "stream",
     "text": [
      "Enter the string1 : abb\n",
      "The string matches the pattern.\n",
      "Enter the string2 : ac\n",
      "The string does not match the pattern.\n"
     ]
    }
   ],
   "source": [
    "import re\n",
    "\n",
    "def match_pattern(string):\n",
    "    pattern = r'^ab*$'\n",
    "    if re.match(pattern, string):\n",
    "        print(\"The string matches the pattern.\")\n",
    "    else:\n",
    "        print(\"The string does not match the pattern.\")\n",
    "\n",
    "# Example usage\n",
    "\n",
    "s1 = input(\"Enter the string1 : \")\n",
    "match_pattern(s1)\n",
    "s2 = input(\"Enter the string2 : \")\n",
    "match_pattern(s2)"
   ]
  },
  {
   "cell_type": "markdown",
   "id": "8f4ced9d",
   "metadata": {},
   "source": [
    "### Question 3-  Create a function in python that matches a string that has an a followed by one or more b's\n"
   ]
  },
  {
   "cell_type": "code",
   "execution_count": 21,
   "id": "77986b8d",
   "metadata": {},
   "outputs": [
    {
     "name": "stdout",
     "output_type": "stream",
     "text": [
      "Enter the string1 : abbbbb\n",
      "The string matches the pattern.\n",
      "Enter the string2 : a\n",
      "The string does not match the pattern.\n",
      "Enter the string3 : acccc\n",
      "The string does not match the pattern.\n"
     ]
    }
   ],
   "source": [
    "def match_pattern(string):\n",
    "    pattern = r'ab+'\n",
    "    if re.match(pattern, string):\n",
    "        print(\"The string matches the pattern.\")\n",
    "    else:\n",
    "        print(\"The string does not match the pattern.\")\n",
    "        \n",
    "s1 = input(\"Enter the string1 : \")\n",
    "match_pattern(s1)\n",
    "s2 = input(\"Enter the string2 : \")\n",
    "match_pattern(s2)\n",
    "s3 = input(\"Enter the string3 : \")\n",
    "match_pattern(s3)"
   ]
  },
  {
   "cell_type": "markdown",
   "id": "48ec22b0",
   "metadata": {},
   "source": [
    "### Question 4- Create a function in Python and use RegEx that matches a string that has an a followed by zero or one 'b'."
   ]
  },
  {
   "cell_type": "code",
   "execution_count": 25,
   "id": "454cf85d",
   "metadata": {},
   "outputs": [
    {
     "name": "stdout",
     "output_type": "stream",
     "text": [
      "Enter the string1 : a\n",
      "The string matches the pattern.\n",
      "Enter the string2 : ab\n",
      "The string matches the pattern.\n",
      "Enter the string3 : abb\n",
      "The string does not match the pattern.\n",
      "Enter the string3 : ac\n",
      "The string does not match the pattern.\n"
     ]
    }
   ],
   "source": [
    "import re\n",
    "\n",
    "def match_pattern(string):\n",
    "    pattern = r'^ab?$'\n",
    "    if re.match(pattern, string):\n",
    "        print(\"The string matches the pattern.\")\n",
    "    else:\n",
    "        print(\"The string does not match the pattern.\")\n",
    "        \n",
    "s1 = input(\"Enter the string1 : \")\n",
    "match_pattern(s1)\n",
    "s2 = input(\"Enter the string2 : \")\n",
    "match_pattern(s2)\n",
    "s3 = input(\"Enter the string3 : \")\n",
    "match_pattern(s3)\n",
    "s4 = input(\"Enter the string3 : \")\n",
    "match_pattern(s4)"
   ]
  },
  {
   "cell_type": "markdown",
   "id": "d4edde8c",
   "metadata": {},
   "source": [
    "### Question 5- Write a Python program that matches a string that has an a followed by three 'b'."
   ]
  },
  {
   "cell_type": "code",
   "execution_count": 26,
   "id": "b2fddeeb",
   "metadata": {},
   "outputs": [
    {
     "name": "stdout",
     "output_type": "stream",
     "text": [
      "Enter the string1 : a\n",
      "The string does not match the pattern.\n",
      "Enter the string2 : abbb\n",
      "The string matches the pattern.\n",
      "Enter the string3 : ac\n",
      "The string does not match the pattern.\n",
      "Enter the string3 : abbbbb\n",
      "The string matches the pattern.\n"
     ]
    }
   ],
   "source": [
    "def match_pattern(string):\n",
    "    pattern = r'ab{3}'\n",
    "    if re.search(pattern, string):\n",
    "        print(\"The string matches the pattern.\")\n",
    "    else:\n",
    "        print(\"The string does not match the pattern.\")\n",
    "\n",
    "s1 = input(\"Enter the string1 : \")\n",
    "match_pattern(s1)\n",
    "s2 = input(\"Enter the string2 : \")\n",
    "match_pattern(s2)\n",
    "s3 = input(\"Enter the string3 : \")\n",
    "match_pattern(s3)\n",
    "s4 = input(\"Enter the string3 : \")\n",
    "match_pattern(s4)"
   ]
  },
  {
   "cell_type": "markdown",
   "id": "88fd4213",
   "metadata": {},
   "source": [
    "### Question 6- Write a regular expression in Python to split a string into uppercase letters.\n",
    "Sample text: “ImportanceOfRegularExpressionsInPython”\n",
    "Output: [‘Importance’, ‘Of’, ‘Regular’, ‘Expression’, ‘In’, ‘Python’]\n"
   ]
  },
  {
   "cell_type": "code",
   "execution_count": 30,
   "id": "6c9d75c2",
   "metadata": {},
   "outputs": [
    {
     "name": "stdout",
     "output_type": "stream",
     "text": [
      "Input the stringHiMyNameIsShamsheerKuttukkan\n",
      "['Hi', 'My', 'Name', 'Is', 'Shamsheer', 'Kuttukkan']\n"
     ]
    }
   ],
   "source": [
    "import re\n",
    "\n",
    "def split_uppercase(string):\n",
    "    pattern = r'[A-Z][a-z]*'\n",
    "    uppercase_words = re.findall(pattern, string)\n",
    "    return uppercase_words\n",
    "\n",
    "# Example usage\n",
    "text = input(\"Input the string\")\n",
    "result = split_uppercase(text)\n",
    "print(result)\n"
   ]
  },
  {
   "cell_type": "markdown",
   "id": "48e10d57",
   "metadata": {},
   "source": [
    "### Question 7- Write a Python program that matches a string that has an a followed by two to three 'b'."
   ]
  },
  {
   "cell_type": "code",
   "execution_count": 35,
   "id": "62115b7e",
   "metadata": {},
   "outputs": [
    {
     "name": "stdout",
     "output_type": "stream",
     "text": [
      "Enter the string1 : abbb\n",
      "The string matches the pattern.\n",
      "Enter the string2 : ac\n",
      "The string does not match the pattern.\n",
      "Enter the string3 : abbbbb\n",
      "The string does not match the pattern.\n",
      "Enter the string3 : abb\n",
      "The string matches the pattern.\n"
     ]
    }
   ],
   "source": [
    "def match_pattern(string):\n",
    "    pattern = r'ab{2,3}\\b'\n",
    "    if re.search(pattern, string):\n",
    "        print(\"The string matches the pattern.\")\n",
    "    else:\n",
    "        print(\"The string does not match the pattern.\")\n",
    "s1 = input(\"Enter the string1 : \")\n",
    "match_pattern(s1)\n",
    "s2 = input(\"Enter the string2 : \")\n",
    "match_pattern(s2)\n",
    "s3 = input(\"Enter the string3 : \")\n",
    "match_pattern(s3)\n",
    "s4 = input(\"Enter the string3 : \")\n",
    "match_pattern(s4) "
   ]
  },
  {
   "cell_type": "markdown",
   "id": "390d199d",
   "metadata": {},
   "source": [
    "### Question 8- Write a Python program to find sequences of lowercase letters joined with a underscore."
   ]
  },
  {
   "cell_type": "code",
   "execution_count": 37,
   "id": "f658e81e",
   "metadata": {},
   "outputs": [
    {
     "name": "stdout",
     "output_type": "stream",
     "text": [
      "Enter the string1 : asfdhjshfj_jfhsjfh ajsfhjshf\n",
      "['asfdhjshfj_jfhsjfh']\n",
      "Enter the string2 : hello_world_python is_a_programming_language\n",
      "['hello_world_python', 'is_a_programming_language']\n"
     ]
    }
   ],
   "source": [
    "def find_sequences(string):\n",
    "    pattern = r'[a-z]+(?:_[a-z]+)+'\n",
    "    sequences = re.findall(pattern, string)\n",
    "    return sequences\n",
    "\n",
    "s1 = input(\"Enter the string1 : \")\n",
    "print(find_sequences(s1))\n",
    "\n",
    "s2 = input(\"Enter the string2 : \")\n",
    "print(find_sequences(s2))"
   ]
  },
  {
   "cell_type": "markdown",
   "id": "640dd043",
   "metadata": {},
   "source": [
    "### Question 9- Write a Python program that matches a string that has an 'a' followed by anything, ending in 'b'."
   ]
  },
  {
   "cell_type": "code",
   "execution_count": 38,
   "id": "ebce9d97",
   "metadata": {},
   "outputs": [
    {
     "name": "stdout",
     "output_type": "stream",
     "text": [
      "Enter the string1 : accv\n",
      "The string does not match the pattern.\n",
      "Enter the string2 : abbb\n",
      "The string matches the pattern.\n",
      "Enter the string3 : axxxb\n",
      "The string matches the pattern.\n",
      "Enter the string3 : abbbc\n",
      "The string does not match the pattern.\n"
     ]
    }
   ],
   "source": [
    "def match_pattern(string):\n",
    "    pattern = r'a.*b$'\n",
    "    if re.match(pattern, string):\n",
    "        print(\"The string matches the pattern.\")\n",
    "    else:\n",
    "        print(\"The string does not match the pattern.\")\n",
    "\n",
    "s1 = input(\"Enter the string1 : \")\n",
    "match_pattern(s1)\n",
    "s2 = input(\"Enter the string2 : \")\n",
    "match_pattern(s2)\n",
    "s3 = input(\"Enter the string3 : \")\n",
    "match_pattern(s3)\n",
    "s4 = input(\"Enter the string3 : \")\n",
    "match_pattern(s4) "
   ]
  },
  {
   "cell_type": "markdown",
   "id": "241ca21e",
   "metadata": {},
   "source": [
    "### Question 10- Write a Python program that matches a word at the beginning of a string."
   ]
  },
  {
   "cell_type": "code",
   "execution_count": 39,
   "id": "15bde400",
   "metadata": {},
   "outputs": [
    {
     "name": "stdout",
     "output_type": "stream",
     "text": [
      "Enter the string1 : Hello, World!\n",
      "The word at the beginning of the string: Hello\n",
      "Enter the string2 : 2 is the answer.\n",
      "The word at the beginning of the string: 2\n",
      "Enter the string3 : .NET Framework\n",
      "No word found at the beginning of the string.\n",
      "Enter the string3 : Shamsheer Kuttukkan\n",
      "The word at the beginning of the string: Shamsheer\n"
     ]
    }
   ],
   "source": [
    "import re\n",
    "\n",
    "def match_pattern(string):\n",
    "    pattern = r'^\\w+'\n",
    "    match = re.match(pattern, string)\n",
    "    if match:\n",
    "        print(\"The word at the beginning of the string:\", match.group())\n",
    "    else:\n",
    "        print(\"No word found at the beginning of the string.\")\n",
    "\n",
    "s1 = input(\"Enter the string1 : \")\n",
    "match_pattern(s1)\n",
    "s2 = input(\"Enter the string2 : \")\n",
    "match_pattern(s2)\n",
    "s3 = input(\"Enter the string3 : \")\n",
    "match_pattern(s3)\n",
    "s4 = input(\"Enter the string3 : \")\n",
    "match_pattern(s4) "
   ]
  },
  {
   "cell_type": "markdown",
   "id": "34866e9d",
   "metadata": {},
   "source": [
    "### Question 11- Write a Python program to match a string that contains only upper and lowercase letters, numbers, and underscores.\n"
   ]
  },
  {
   "cell_type": "code",
   "execution_count": 40,
   "id": "ed970ce3",
   "metadata": {},
   "outputs": [
    {
     "name": "stdout",
     "output_type": "stream",
     "text": [
      "Enter the string1 : sdfhjsdhf__aJHDHDJH288248\n",
      "The string contains only upper and lowercase letters, numbers, and underscores.\n",
      "Enter the string2 : sdfjdskj123**434JHJHDJHD\n",
      "The string contains characters other than upper and lowercase letters, numbers, and underscores.\n",
      "Enter the string3 : sdfsfhj;j||2424___dsjdjshf\n",
      "The string contains characters other than upper and lowercase letters, numbers, and underscores.\n",
      "Enter the string3 : sadhfjdshfJHJDHJDH____3243243\n",
      "The string contains only upper and lowercase letters, numbers, and underscores.\n"
     ]
    }
   ],
   "source": [
    "def match_pattern(string):\n",
    "    pattern = r'^[a-zA-Z0-9_]+$'\n",
    "    if re.match(pattern, string):\n",
    "        print(\"The string contains only upper and lowercase letters, numbers, and underscores.\")\n",
    "    else:\n",
    "        print(\"The string contains characters other than upper and lowercase letters, numbers, and underscores.\")\n",
    "\n",
    "        \n",
    "s1 = input(\"Enter the string1 : \")\n",
    "match_pattern(s1)\n",
    "s2 = input(\"Enter the string2 : \")\n",
    "match_pattern(s2)\n",
    "s3 = input(\"Enter the string3 : \")\n",
    "match_pattern(s3)\n",
    "s4 = input(\"Enter the string3 : \")\n",
    "match_pattern(s4) "
   ]
  },
  {
   "cell_type": "markdown",
   "id": "ab5b98b3",
   "metadata": {},
   "source": [
    "### Question 12- Write a Python program where a string will start with a specific number. "
   ]
  },
  {
   "cell_type": "code",
   "execution_count": 1,
   "id": "dcb7dc73",
   "metadata": {},
   "outputs": [
    {
     "name": "stdout",
     "output_type": "stream",
     "text": [
      "The string starts with the specified number.\n",
      "The string does not start with the specified number.\n"
     ]
    }
   ],
   "source": [
    "def check_start_with_number(string, number):\n",
    "    if string.startswith(str(number)):\n",
    "        print(\"The string starts with the specified number.\")\n",
    "    else:\n",
    "        print(\"The string does not start with the specified number.\")\n",
    "\n",
    "# Example usage\n",
    "string = \"12345\"\n",
    "num = \"12\"\n",
    "check_start_with_number(string, num)\n",
    "\n",
    "string = \"98765\"\n",
    "num = \"23\"\n",
    "check_start_with_number(string, num)\n",
    "\n"
   ]
  },
  {
   "cell_type": "markdown",
   "id": "36f34fe7",
   "metadata": {},
   "source": [
    "### Question 13- Write a Python program to remove leading zeros from an IP address\n"
   ]
  },
  {
   "cell_type": "code",
   "execution_count": 2,
   "id": "8efcd280",
   "metadata": {},
   "outputs": [
    {
     "name": "stdout",
     "output_type": "stream",
     "text": [
      "192.168.1.1\n"
     ]
    }
   ],
   "source": [
    "def remove_leading_zeros(ip_address):\n",
    "    # Split the IP address into octets\n",
    "    octets = ip_address.split('.')\n",
    "\n",
    "    # Remove leading zeros from each octet\n",
    "    modified_octets = [str(int(octet)) for octet in octets]\n",
    "\n",
    "    # Join the modified octets back into an IP address\n",
    "    modified_ip = '.'.join(modified_octets)\n",
    "\n",
    "    return modified_ip\n",
    "\n",
    "# Example usage\n",
    "ip = \"192.168.001.001\"\n",
    "modified_ip = remove_leading_zeros(ip)\n",
    "print(modified_ip)\n"
   ]
  },
  {
   "cell_type": "markdown",
   "id": "8d531691",
   "metadata": {},
   "source": [
    "### Question 14- Write a regular expression in python to match a date string in the form of Month name followed by day number and year stored in a text file.\n",
    "Sample text : ' On August 15th 1947 that India was declared independent from British colonialism, and the reins of control were handed over to the leaders of the Country’.\n",
    "Output- August 15th 1947\n",
    "Hint- Use re.match() method here"
   ]
  },
  {
   "cell_type": "code",
   "execution_count": 5,
   "id": "f4260da8",
   "metadata": {},
   "outputs": [
    {
     "name": "stdout",
     "output_type": "stream",
     "text": [
      "Matched Date: August 15th 1947\n"
     ]
    }
   ],
   "source": [
    "import re\n",
    "\n",
    "text = \"On August 15th 1947 that India was declared independent from British colonialism, and the reins of control were handed over to the leaders of the Country.\"\n",
    "\n",
    "pattern = r'\\b[A-Za-z]+\\s+\\d{1,2}(?:st|nd|rd|th)?\\s+(?:19|20)\\d{2}\\b'\n",
    "\n",
    "match = re.search(pattern, text)\n",
    "\n",
    "if match:\n",
    "    matched_date = match.group()\n",
    "    print(\"Matched Date:\", matched_date)\n",
    "else:\n",
    "    print(\"No date string matched.\")\n",
    "\n",
    "\n"
   ]
  },
  {
   "cell_type": "markdown",
   "id": "d2bc2eb3",
   "metadata": {},
   "source": [
    "### Question 15- Write a Python program to search some literals strings in a string. Go to the editor\n",
    "Sample text : 'The quick brown fox jumps over the lazy dog.'\n",
    "Searched words : 'fox', 'dog', 'horse'\n"
   ]
  },
  {
   "cell_type": "code",
   "execution_count": 6,
   "id": "66d863fd",
   "metadata": {},
   "outputs": [
    {
     "name": "stdout",
     "output_type": "stream",
     "text": [
      "Found words: ['fox', 'dog']\n"
     ]
    }
   ],
   "source": [
    "def search_words(text, words):\n",
    "    found_words = []\n",
    "    for word in words:\n",
    "        if word in text:\n",
    "            found_words.append(word)\n",
    "    return found_words\n",
    "\n",
    "# Sample text\n",
    "text = 'The quick brown fox jumps over the lazy dog.'\n",
    "\n",
    "# Searched words\n",
    "searched_words = ['fox', 'dog', 'horse']\n",
    "\n",
    "# Search for words in the text\n",
    "found_words = search_words(text, searched_words)\n",
    "\n",
    "# Print the found words\n",
    "print(\"Found words:\", found_words)\n"
   ]
  },
  {
   "cell_type": "markdown",
   "id": "f87550cf",
   "metadata": {},
   "source": [
    "### Question 16- Write a Python program to search a literals string in a string and also find the location within the original string where the pattern occurs\n",
    "Sample text : 'The quick brown fox jumps over the lazy dog.'\n",
    "Searched words : 'fox'\n"
   ]
  },
  {
   "cell_type": "code",
   "execution_count": 7,
   "id": "37328022",
   "metadata": {},
   "outputs": [
    {
     "name": "stdout",
     "output_type": "stream",
     "text": [
      "Found word at locations: [16]\n"
     ]
    }
   ],
   "source": [
    "def search_word_with_location(text, word):\n",
    "    locations = []\n",
    "    start = 0\n",
    "    while True:\n",
    "        index = text.find(word, start)\n",
    "        if index == -1:\n",
    "            break\n",
    "        locations.append(index)\n",
    "        start = index + 1\n",
    "    return locations\n",
    "\n",
    "# Sample text\n",
    "text = 'The quick brown fox jumps over the lazy dog.'\n",
    "\n",
    "# Searched word\n",
    "searched_word = 'fox'\n",
    "\n",
    "# Search for the word in the text\n",
    "found_locations = search_word_with_location(text, searched_word)\n",
    "\n",
    "# Print the found locations\n",
    "if found_locations:\n",
    "    print(\"Found word at locations:\", found_locations)\n",
    "else:\n",
    "    print(\"Word not found.\")\n"
   ]
  },
  {
   "cell_type": "markdown",
   "id": "c225aa52",
   "metadata": {},
   "source": [
    "### Question 17- Write a Python program to find the substrings within a string.\n",
    "Sample text : 'Python exercises, PHP exercises, C# exercises'\n",
    "Pattern : 'exercises'.\n"
   ]
  },
  {
   "cell_type": "code",
   "execution_count": 8,
   "id": "c64ebffe",
   "metadata": {},
   "outputs": [
    {
     "name": "stdout",
     "output_type": "stream",
     "text": [
      "Found substrings: ['exercises', 'exercises', 'exercises']\n"
     ]
    }
   ],
   "source": [
    "def find_substrings(text, pattern):\n",
    "    found_substrings = []\n",
    "    start = 0\n",
    "    while True:\n",
    "        index = text.find(pattern, start)\n",
    "        if index == -1:\n",
    "            break\n",
    "        found_substrings.append(text[index : index + len(pattern)])\n",
    "        start = index + len(pattern)\n",
    "    return found_substrings\n",
    "\n",
    "# Sample text\n",
    "text = 'Python exercises, PHP exercises, C# exercises'\n",
    "\n",
    "# Pattern to search for\n",
    "pattern = 'exercises'\n",
    "\n",
    "# Find all occurrences of the pattern in the text\n",
    "found_substrings = find_substrings(text, pattern)\n",
    "\n",
    "# Print the found substrings\n",
    "if found_substrings:\n",
    "    print(\"Found substrings:\", found_substrings)\n",
    "else:\n",
    "    print(\"Pattern not found.\")\n"
   ]
  },
  {
   "cell_type": "markdown",
   "id": "43c276d7",
   "metadata": {},
   "source": [
    "### Question 18- Write a Python program to find the occurrence and position of the substrings within a string."
   ]
  },
  {
   "cell_type": "code",
   "execution_count": 9,
   "id": "ba32c2bb",
   "metadata": {},
   "outputs": [
    {
     "name": "stdout",
     "output_type": "stream",
     "text": [
      "Found substrings:\n",
      "Occurrence: 1, Position: 7\n",
      "Occurrence: 2, Position: 22\n",
      "Occurrence: 3, Position: 36\n"
     ]
    }
   ],
   "source": [
    "def find_substrings_with_occurrence_and_position(text, pattern):\n",
    "    found_substrings = []\n",
    "    start = 0\n",
    "    occurrence = 0\n",
    "    while True:\n",
    "        index = text.find(pattern, start)\n",
    "        if index == -1:\n",
    "            break\n",
    "        occurrence += 1\n",
    "        found_substrings.append((occurrence, index))\n",
    "        start = index + len(pattern)\n",
    "    return found_substrings\n",
    "\n",
    "# Sample text\n",
    "text = 'Python exercises, PHP exercises, C# exercises'\n",
    "\n",
    "# Pattern to search for\n",
    "pattern = 'exercises'\n",
    "\n",
    "# Find the occurrences and positions of the pattern in the text\n",
    "found_substrings = find_substrings_with_occurrence_and_position(text, pattern)\n",
    "\n",
    "# Print the found substrings with their occurrence and position\n",
    "if found_substrings:\n",
    "    print(\"Found substrings:\")\n",
    "    for occurrence, position in found_substrings:\n",
    "        print(f\"Occurrence: {occurrence}, Position: {position}\")\n",
    "else:\n",
    "    print(\"Pattern not found.\")\n"
   ]
  },
  {
   "cell_type": "markdown",
   "id": "5d8a7ed6",
   "metadata": {},
   "source": [
    "### Question 19- Write a Python program to convert a date of yyyy-mm-dd format to dd-mm-yyyy format."
   ]
  },
  {
   "cell_type": "code",
   "execution_count": 10,
   "id": "b358aee5",
   "metadata": {},
   "outputs": [
    {
     "name": "stdout",
     "output_type": "stream",
     "text": [
      "Converted date: 09-07-2023\n"
     ]
    }
   ],
   "source": [
    "def convert_date(date):\n",
    "    # Split the date into year, month, and day\n",
    "    year, month, day = date.split(\"-\")\n",
    "\n",
    "    # Create the converted date in the \"dd-mm-yyyy\" format\n",
    "    converted_date = f\"{day}-{month}-{year}\"\n",
    "\n",
    "    return converted_date\n",
    "\n",
    "# Example usage\n",
    "date = \"2023-07-09\"\n",
    "converted_date = convert_date(date)\n",
    "print(\"Converted date:\", converted_date)\n"
   ]
  },
  {
   "cell_type": "markdown",
   "id": "77f6673d",
   "metadata": {},
   "source": [
    "### Question 20- Write a Python program to find all words starting with 'a' or 'e' in a given string."
   ]
  },
  {
   "cell_type": "code",
   "execution_count": 16,
   "id": "358c26a0",
   "metadata": {},
   "outputs": [
    {
     "name": "stdout",
     "output_type": "stream",
     "text": [
      "Enter string: Hi Amy, do you want to embark on a journey with me?\n",
      "Words starting with 'a' or 'e': ['Amy', 'embark']\n"
     ]
    }
   ],
   "source": [
    "import re\n",
    "\n",
    "def find_words_starting_with_a_or_e(text):\n",
    "    pattern = r'\\b[aAeE]\\w+\\b'\n",
    "    found_words = re.findall(pattern, text)\n",
    "    return found_words\n",
    "\n",
    "# Example usage\n",
    "text = input(\"Enter string: \")\n",
    "found_words = find_words_starting_with_a_or_e(text)\n",
    "print(\"Words starting with 'a' or 'e':\", found_words)\n"
   ]
  },
  {
   "cell_type": "markdown",
   "id": "a8d8f86a",
   "metadata": {},
   "source": [
    "### Question 21- Write a Python program to separate and print the numbers and their position of a given string."
   ]
  },
  {
   "cell_type": "code",
   "execution_count": 18,
   "id": "c1f2a18a",
   "metadata": {},
   "outputs": [
    {
     "name": "stdout",
     "output_type": "stream",
     "text": [
      "Enter String : \"The price is $25.99, and the quantity is 10.\"\n",
      "Numbers: ['25', '99', '10']\n",
      "Positions: [15, 18, 42]\n"
     ]
    }
   ],
   "source": [
    "import re\n",
    "\n",
    "def separate_numbers_with_positions(text):\n",
    "    pattern = r'\\d+'\n",
    "    numbers = re.findall(pattern, text)\n",
    "    positions = [m.start() for m in re.finditer(pattern, text)]\n",
    "    return numbers, positions\n",
    "\n",
    "# Example usage\n",
    "text = input(\"Enter String : \")\n",
    "numbers, positions = separate_numbers_with_positions(text)\n",
    "print(\"Numbers:\", numbers)\n",
    "print(\"Positions:\", positions)\n"
   ]
  },
  {
   "cell_type": "markdown",
   "id": "f25d24a8",
   "metadata": {},
   "source": [
    "### Question 22- Write a regular expression in python program to extract maximum numeric value from a string"
   ]
  },
  {
   "cell_type": "code",
   "execution_count": 21,
   "id": "3c1f0cd7",
   "metadata": {},
   "outputs": [
    {
     "name": "stdout",
     "output_type": "stream",
     "text": [
      "Enter String : \"The maximum value is 42, but there are other numbers like 15 and 300.\"\n",
      "Maximum numeric value: 300\n"
     ]
    }
   ],
   "source": [
    "import re\n",
    "\n",
    "def extract_maximum_numeric_value(text):\n",
    "    pattern = r'\\b\\d+\\b'\n",
    "    numbers = re.findall(pattern, text)\n",
    "    if numbers:\n",
    "        max_number = max(map(int, numbers))\n",
    "        return max_number\n",
    "    else:\n",
    "        return None\n",
    "\n",
    "# Example usage\n",
    "text = input(\"Enter String : \")\n",
    "max_value = extract_maximum_numeric_value(text)\n",
    "print(\"Maximum numeric value:\", max_value)\n"
   ]
  },
  {
   "cell_type": "markdown",
   "id": "f452bf69",
   "metadata": {},
   "source": [
    "### Question 23- Write a Regex in Python to put spaces between words starting with capital letters"
   ]
  },
  {
   "cell_type": "code",
   "execution_count": 22,
   "id": "6164e336",
   "metadata": {},
   "outputs": [
    {
     "name": "stdout",
     "output_type": "stream",
     "text": [
      "Updated text: This Is An Example String With Words Starting With Capital Letters.\n"
     ]
    }
   ],
   "source": [
    "import re\n",
    "\n",
    "def put_spaces_between_capital_words(text):\n",
    "    pattern = r'(?<!^)(?=[A-Z])'\n",
    "    updated_text = re.sub(pattern, ' ', text)\n",
    "    return updated_text\n",
    "\n",
    "# Example usage\n",
    "text = \"ThisIsAnExampleStringWithWordsStartingWithCapitalLetters.\"\n",
    "updated_text = put_spaces_between_capital_words(text)\n",
    "print(\"Updated text:\", updated_text)\n",
    "\n"
   ]
  },
  {
   "cell_type": "markdown",
   "id": "721901bb",
   "metadata": {},
   "source": [
    "### Question 24- Python regex to find sequences of one upper case letter followed by lower case letters"
   ]
  },
  {
   "cell_type": "code",
   "execution_count": 24,
   "id": "9eaddef7",
   "metadata": {},
   "outputs": [
    {
     "name": "stdout",
     "output_type": "stream",
     "text": [
      "Enter string :  \"This is a Sample Text with Some Uppercase Words.\"\n",
      "Sequences: ['This', 'Sample', 'Text', 'Some', 'Uppercase', 'Words']\n"
     ]
    }
   ],
   "source": [
    "import re\n",
    "\n",
    "def find_sequences_of_uppercase_followed_by_lowercase(text):\n",
    "    pattern = r'[A-Z][a-z]+'\n",
    "    sequences = re.findall(pattern, text)\n",
    "    return sequences\n",
    "\n",
    "# Example usage\n",
    "text = input(\"Enter string : \")\n",
    "sequences = find_sequences_of_uppercase_followed_by_lowercase(text)\n",
    "print(\"Sequences:\", sequences)\n"
   ]
  },
  {
   "cell_type": "markdown",
   "id": "4677dc9b",
   "metadata": {},
   "source": [
    "### Question 25- Write a Python program to remove duplicate words from Sentence using Regular Expression"
   ]
  },
  {
   "cell_type": "code",
   "execution_count": 27,
   "id": "c236fb98",
   "metadata": {},
   "outputs": [
    {
     "name": "stdout",
     "output_type": "stream",
     "text": [
      " Enter String : \"This is is a sample sentence with duplicate words.\"\n",
      "Updated sentence: This is a sample sentence with duplicate words\n"
     ]
    }
   ],
   "source": [
    "import re\n",
    "\n",
    "def remove_duplicate_words(sentence):\n",
    "    # Split the sentence into individual words\n",
    "    words = re.findall(r'\\b\\w+\\b', sentence)\n",
    "\n",
    "    # Create a list to store unique words in their original order\n",
    "    unique_words = []\n",
    "\n",
    "    # Iterate over each word and add it to unique_words if it's not already present\n",
    "    for word in words:\n",
    "        if word not in unique_words:\n",
    "            unique_words.append(word)\n",
    "\n",
    "    # Join the unique words to form the updated sentence\n",
    "    updated_sentence = ' '.join(unique_words)\n",
    "\n",
    "    return updated_sentence\n",
    "\n",
    "# Example usage\n",
    "sentence = input(\" Enter String : \")\n",
    "updated_sentence = remove_duplicate_words(sentence)\n",
    "print(\"Updated sentence:\", updated_sentence)\n",
    "\n"
   ]
  },
  {
   "cell_type": "markdown",
   "id": "0a794799",
   "metadata": {},
   "source": [
    "### Question 26-  Write a python program using RegEx to accept string ending with alphanumeric character."
   ]
  },
  {
   "cell_type": "code",
   "execution_count": 51,
   "id": "04c87f6f",
   "metadata": {},
   "outputs": [
    {
     "name": "stdout",
     "output_type": "stream",
     "text": [
      "Enter String : +\n",
      "False\n"
     ]
    }
   ],
   "source": [
    "import re\n",
    "\n",
    "def accept_string_ending_with_alphanumeric(string):\n",
    "    pattern = r'[a-zA-Z0-9]+$'\n",
    "    match = re.search(pattern, string)\n",
    "    if match:\n",
    "        return True\n",
    "    else:\n",
    "        return False\n",
    "\n",
    "\n",
    "# Example usage\n",
    "\n",
    "string=input(\"Enter String : \")\n",
    "\n",
    "print(accept_string_ending_with_alphanumeric(string)) \n",
    "\n"
   ]
  },
  {
   "cell_type": "markdown",
   "id": "e366e1db",
   "metadata": {},
   "source": [
    "### Question 27-Write a python program using RegEx to extract the hashtags.\n",
    "Sample Text: text = \"\"\"RT @kapil_kausik: #Doltiwal I mean #xyzabc is \"hurt\" by #Demonetization as the same has rendered USELESS <ed><U+00A0><U+00BD><ed><U+00B1><U+0089> \"acquired funds\" No wo\"\"\"\n",
    "Output: ['#Doltiwal', '#xyzabc', '#Demonetization']\n"
   ]
  },
  {
   "cell_type": "code",
   "execution_count": 54,
   "id": "86cb3c77",
   "metadata": {},
   "outputs": [
    {
     "name": "stdout",
     "output_type": "stream",
     "text": [
      " Enter the text : @jfhjshaj #hello fsjhf #love\n",
      "Hashtags: ['#hello', '#love']\n"
     ]
    }
   ],
   "source": [
    "import re\n",
    "\n",
    "def extract_hashtags(text):\n",
    "    pattern = r'#[\\w]+'\n",
    "    hashtags = re.findall(pattern, text)\n",
    "    return hashtags\n",
    "\n",
    "# Example usage\n",
    "text = input (\" Enter the text : \")\n",
    "hashtags = extract_hashtags(text)\n",
    "print(\"Hashtags:\", hashtags)\n"
   ]
  },
  {
   "cell_type": "markdown",
   "id": "c35d8d77",
   "metadata": {},
   "source": [
    "### Question 28- Write a python program using RegEx to remove <U+..> like symbols\n",
    "Check the below sample text, there are strange symbols something of the sort <U+..> all over the place. You need to come up with a general Regex expression that will cover all such symbols.\n",
    "Sample Text: \"@Jags123456 Bharat band on 28??<ed><U+00A0><U+00BD><ed><U+00B8><U+0082>Those who  are protesting #demonetization  are all different party leaders\"\n",
    "Output: @Jags123456 Bharat band on 28??<ed><ed>Those who  are protesting #demonetization  are all different party leaders\n"
   ]
  },
  {
   "cell_type": "code",
   "execution_count": 55,
   "id": "30893dac",
   "metadata": {},
   "outputs": [
    {
     "name": "stdout",
     "output_type": "stream",
     "text": [
      "Cleaned text: @Jags123456 Bharat band on 28??<ed><ed>Those who  are protesting #demonetization  are all different party leaders\n"
     ]
    }
   ],
   "source": [
    "import re\n",
    "\n",
    "def remove_symbols(text):\n",
    "    pattern = r'<U\\+[\\w]+>'\n",
    "    cleaned_text = re.sub(pattern, '', text)\n",
    "    return cleaned_text\n",
    "\n",
    "# Example usage\n",
    "text = \"@Jags123456 Bharat band on 28??<ed><U+00A0><U+00BD><ed><U+00B8><U+0082>Those who  are protesting #demonetization  are all different party leaders\"\n",
    "cleaned_text = remove_symbols(text)\n",
    "print(\"Cleaned text:\", cleaned_text)\n"
   ]
  },
  {
   "cell_type": "markdown",
   "id": "7a544bfe",
   "metadata": {},
   "source": [
    "### Question 29- Write a python program to extract dates from the text stored in the text file.\n",
    "Sample Text: Ron was born on 12-09-1992 and he was admitted to school 15-12-1999.\n",
    "Store this sample text in the file and then extract dates.\n"
   ]
  },
  {
   "cell_type": "code",
   "execution_count": 61,
   "id": "496b00c6",
   "metadata": {},
   "outputs": [
    {
     "name": "stdout",
     "output_type": "stream",
     "text": [
      "File path: /Users/mac/sample_text\n"
     ]
    }
   ],
   "source": [
    "import re\n",
    "import os\n",
    "\n",
    "filename = 'sample_text'  \n",
    "file_path = os.path.abspath(filename)\n",
    "print(\"File path:\", file_path)\n",
    "\n",
    "\n"
   ]
  },
  {
   "cell_type": "code",
   "execution_count": 62,
   "id": "59c7e8e1",
   "metadata": {},
   "outputs": [
    {
     "name": "stdout",
     "output_type": "stream",
     "text": [
      "Extracted dates: ['12-09-1992', '15-12-1999']\n"
     ]
    }
   ],
   "source": [
    "def extract_dates_from_file(filename):\n",
    "    with open(filename, 'r') as file:\n",
    "        text = file.read()\n",
    "        dates = re.findall(r'\\d{2}-\\d{2}-\\d{4}', text)\n",
    "        return dates\n",
    "\n",
    "# Example usage\n",
    "filename = \"/Users/mac/sample_text\" \n",
    "dates = extract_dates_from_file(filename)\n",
    "print(\"Extracted dates:\", dates)"
   ]
  },
  {
   "cell_type": "markdown",
   "id": "23a805f0",
   "metadata": {},
   "source": [
    "### Question 30- Write a Python program to replace all occurrences of a space, comma, or dot with a colon.\n",
    "Sample Text- 'Python Exercises, PHP exercises.'\n",
    "Output: Python:Exercises::PHP:exercises:\n"
   ]
  },
  {
   "cell_type": "code",
   "execution_count": 63,
   "id": "fd51244a",
   "metadata": {},
   "outputs": [
    {
     "name": "stdout",
     "output_type": "stream",
     "text": [
      "Replaced text: Python:Exercises::PHP:exercises:\n"
     ]
    }
   ],
   "source": [
    "def replace_spaces_commas_dots_with_colons(text):\n",
    "    replaced_text = text.replace(' ', ':').replace(',', ':').replace('.', ':')\n",
    "    return replaced_text\n",
    "\n",
    "# Example usage\n",
    "text = 'Python Exercises, PHP exercises.'\n",
    "replaced_text = replace_spaces_commas_dots_with_colons(text)\n",
    "print(\"Replaced text:\", replaced_text)\n"
   ]
  },
  {
   "cell_type": "code",
   "execution_count": null,
   "id": "725096ce",
   "metadata": {},
   "outputs": [],
   "source": []
  }
 ],
 "metadata": {
  "kernelspec": {
   "display_name": "Python 3 (ipykernel)",
   "language": "python",
   "name": "python3"
  },
  "language_info": {
   "codemirror_mode": {
    "name": "ipython",
    "version": 3
   },
   "file_extension": ".py",
   "mimetype": "text/x-python",
   "name": "python",
   "nbconvert_exporter": "python",
   "pygments_lexer": "ipython3",
   "version": "3.9.13"
  }
 },
 "nbformat": 4,
 "nbformat_minor": 5
}
